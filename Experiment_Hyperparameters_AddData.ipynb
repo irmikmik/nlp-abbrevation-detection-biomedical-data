{
 "cells": [
  {
   "cell_type": "markdown",
   "metadata": {
    "id": "jZ6XW2J9G-M_"
   },
   "source": [
    "**Each classification report belongs to previous cell, when you RUNN ALL**"
   ]
  },
  {
   "cell_type": "markdown",
   "metadata": {
    "id": "ajzqu0cZ8nzP"
   },
   "source": [
    "**LOADING THE DATASETS**"
   ]
  },
  {
   "cell_type": "code",
   "execution_count": null,
   "metadata": {
    "colab": {
     "base_uri": "https://localhost:8080/"
    },
    "executionInfo": {
     "elapsed": 18947,
     "status": "ok",
     "timestamp": 1714096833148,
     "user": {
      "displayName": "Irmak Tural",
      "userId": "05300032043509543722"
     },
     "user_tz": -60
    },
    "id": "6Qa28uHrnvmb",
    "outputId": "b3d17ea5-b21c-4553-d9ba-3fa55cdaf81b"
   },
   "outputs": [],
   "source": [
    "\n",
    "%pip install datasets\n",
    "%pip install seqeval\n",
    "from datasets import load_dataset, load_metric\n",
    "import pandas as pd\n",
    "import matplotlib.pyplot as plt\n",
    "dataset = load_dataset(\"surrey-nlp/PLOD-CW\")\n",
    "training_dataset = dataset[\"train\"]\n",
    "val_dataset = dataset[\"validation\"]\n",
    "test_dataset = dataset[\"test\"]\n",
    "column_names = training_dataset.column_names\n",
    "datasetOptional = load_dataset(\"surrey-nlp/PLOD-filtered\")\n",
    "len(datasetOptional[\"train\"])\n"
   ]
  },
  {
   "cell_type": "markdown",
   "metadata": {
    "id": "Xr5PujpY__Hb"
   },
   "source": [
    "**TRAIN WITH DIFFERENT PROPORTIONS OF DATA**"
   ]
  },
  {
   "cell_type": "code",
   "execution_count": null,
   "metadata": {
    "id": "mppBqurFHC1P"
   },
   "outputs": [],
   "source": [
    "optional_dataset=datasetOptional[\"train\"][:1]\n",
    "optional_dataset_val=datasetOptional[\"validation\"][:1]"
   ]
  },
  {
   "cell_type": "code",
   "execution_count": 11,
   "metadata": {
    "executionInfo": {
     "elapsed": 3844,
     "status": "ok",
     "timestamp": 1714095651397,
     "user": {
      "displayName": "Irmak Tural",
      "userId": "05300032043509543722"
     },
     "user_tz": -60
    },
    "id": "jeNknG2z8ri5"
   },
   "outputs": [],
   "source": [
    "\n",
    "optional_dataset=datasetOptional[\"train\"][:25000]\n",
    "optional_dataset_val=datasetOptional[\"validation\"][:10000]\n"
   ]
  },
  {
   "cell_type": "code",
   "execution_count": 12,
   "metadata": {
    "executionInfo": {
     "elapsed": 3357,
     "status": "ok",
     "timestamp": 1714095654727,
     "user": {
      "displayName": "Irmak Tural",
      "userId": "05300032043509543722"
     },
     "user_tz": -60
    },
    "id": "-dfTLi1X_Vs5"
   },
   "outputs": [],
   "source": [
    "optional_dataset=datasetOptional[\"train\"][:10000]\n",
    "optional_dataset_val=datasetOptional[\"validation\"][:5000]"
   ]
  },
  {
   "cell_type": "code",
   "execution_count": 13,
   "metadata": {
    "executionInfo": {
     "elapsed": 1998,
     "status": "ok",
     "timestamp": 1714095656715,
     "user": {
      "displayName": "Irmak Tural",
      "userId": "05300032043509543722"
     },
     "user_tz": -60
    },
    "id": "AiosFckZ_177"
   },
   "outputs": [],
   "source": [
    "optional_dataset=datasetOptional[\"train\"][:5000]\n",
    "optional_dataset_val=datasetOptional[\"validation\"][:2500]"
   ]
  },
  {
   "cell_type": "code",
   "execution_count": 15,
   "metadata": {
    "executionInfo": {
     "elapsed": 6,
     "status": "ok",
     "timestamp": 1714095657025,
     "user": {
      "displayName": "Irmak Tural",
      "userId": "05300032043509543722"
     },
     "user_tz": -60
    },
    "id": "zuxFss9glG6N"
   },
   "outputs": [],
   "source": [
    "\n",
    "\n",
    "mapping = {0: \"B-O\", 1: \"B-AC\", 3: \"B-LF\", 4:\"I-LF\"}\n",
    "\n",
    "# Apply mapping to all lists in optional_dataset['ner_tags']\n",
    "mapped_ner_tags = [[mapping.get(tag, tag) for tag in ner_tags] for ner_tags in optional_dataset['ner_tags']]\n",
    "mapping = {0: \"B-O\", 1: \"B-AC\", 3: \"B-LF\", 4:\"I-LF\"}\n",
    "\n",
    "mapped_ner_tags_val = [[mapping.get(tag, tag) for tag in ner_tags] for ner_tags in optional_dataset_val['ner_tags']]\n",
    "mapping = {0: \"B-O\", 1: \"B-AC\", 3: \"B-LF\", 4:\"I-LF\"}\n",
    "\n",
    "\n",
    "sentences_optional=optional_dataset['tokens']\n",
    "sentences_optional_val=optional_dataset_val['tokens']\n",
    "# Apply mapping to all lists in optional_dataset['ner_tags']\n",
    "#mapped_ner_tags2 = [[mapping.get(tag, tag) for tag in ner_tags] for ner_tags in optional_dataset2['ner_tags']]"
   ]
  },
  {
   "cell_type": "code",
   "execution_count": 16,
   "metadata": {
    "colab": {
     "base_uri": "https://localhost:8080/"
    },
    "executionInfo": {
     "elapsed": 5,
     "status": "ok",
     "timestamp": 1714095657025,
     "user": {
      "displayName": "Irmak Tural",
      "userId": "05300032043509543722"
     },
     "user_tz": -60
    },
    "id": "TSEV-RnC_iRu",
    "outputId": "9bd41396-08b3-4127-8d8f-26d76a3be3d1"
   },
   "outputs": [
    {
     "name": "stdout",
     "output_type": "stream",
     "text": [
      "[['Alternatively', ',', 'fibroblasts', 'were', 'plated', 'sparsely', 'so', 'that', 'they', 'did', 'not', 'touch', 'each', 'other', 'and', 'induced', 'into', 'quiescence', 'by', 'serum', 'starvation', 'and', 'monitored', 'after', '4', 'd', '(', 'serum', '-', 'starved', 'for', '4', 'd', '[', 'SS4', ']', ')', 'or', '7', 'd', '(', 'serum', '-', 'starved', 'for', '7', 'd', '[', 'SS7', ']', ')', '.']]\n"
     ]
    }
   ],
   "source": [
    "print(sentences_optional[:3])"
   ]
  },
  {
   "cell_type": "code",
   "execution_count": 17,
   "metadata": {
    "colab": {
     "base_uri": "https://localhost:8080/",
     "height": 684
    },
    "executionInfo": {
     "elapsed": 377,
     "status": "ok",
     "timestamp": 1714095657400,
     "user": {
      "displayName": "Irmak Tural",
      "userId": "05300032043509543722"
     },
     "user_tz": -60
    },
    "id": "Q5NsZnfMMx0F",
    "outputId": "35b9b354-0f73-4f5e-e1fc-eb2baa12c9db"
   },
   "outputs": [
    {
     "data": {
      "image/png": "[encoded data removed]",
      "text/plain": [
       "<Figure size 800x800 with 1 Axes>"
      ]
     },
     "metadata": {},
     "output_type": "display_data"
    }
   ],
   "source": [
    "import matplotlib.pyplot as plt\n",
    "\n",
    "# Count the occurrences of each named entity tag\n",
    "tag_counts = {}\n",
    "for sentence_tags in mapped_ner_tags:\n",
    "    for tag in sentence_tags:\n",
    "        tag_counts[tag] = tag_counts.get(tag, 0) + 1\n",
    "\n",
    "# Sort the tags by count\n",
    "sorted_tags = sorted(tag_counts.items(), key=lambda x: x[1], reverse=True)\n",
    "\n",
    "# Extract tags and counts for plotting\n",
    "tags = [tag for tag, count in sorted_tags]\n",
    "counts = [count for tag, count in sorted_tags]\n",
    "\n",
    "# Plot the pie chart\n",
    "plt.figure(figsize=(8, 8))\n",
    "plt.pie(counts, labels=tags, autopct='%1.1f%%', startangle=140)\n",
    "plt.title('Distribution of Named Entity Tags')\n",
    "plt.axis('equal')  # Equal aspect ratio ensures that pie is drawn as a circle\n",
    "plt.show()"
   ]
  },
  {
   "cell_type": "markdown",
   "metadata": {
    "id": "c8MieoXd8tXc"
   },
   "source": [
    "**FETCHING THE TOKENS AND LABELS AND MAPPING THEM ACCORDINGLY**"
   ]
  },
  {
   "cell_type": "code",
   "execution_count": null,
   "metadata": {
    "executionInfo": {
     "elapsed": 913,
     "status": "ok",
     "timestamp": 1714095658301,
     "user": {
      "displayName": "Irmak Tural",
      "userId": "05300032043509543722"
     },
     "user_tz": -60
    },
    "id": "fCgSo2v8n46m"
   },
   "outputs": [],
   "source": [
    "\n",
    "sentences_train=training_dataset['tokens']\n",
    "labels_train=training_dataset['ner_tags']\n",
    "pos_tags=training_dataset['pos_tags']\n",
    "\n",
    "sentences_val=val_dataset['tokens']\n",
    "labels_val=val_dataset['ner_tags']\n",
    "\n",
    "sentences_test=test_dataset['tokens']\n",
    "labels_test=test_dataset['ner_tags']\n",
    "\n",
    "\n",
    "\n",
    "label_encoding = {\"B-O\": 0, \"B-AC\": 1, \"B-LF\": 2, \"I-LF\": 3}\n",
    "\n",
    "label_list_train = []\n",
    "for sample in labels_train:\n",
    "    label_list_train.append([label_encoding[tag] for tag in sample])\n",
    "\n",
    "label_list_test = []\n",
    "for sample in labels_test:\n",
    "    label_list_test.append([label_encoding[tag] for tag in sample])\n",
    "\n",
    "label_list_val = []\n",
    "for sample in labels_val:\n",
    "    label_list_val.append([label_encoding[tag] for tag in sample])\n",
    "\n",
    "\n",
    "label_list_opt = []\n",
    "for sample in mapped_ner_tags:\n",
    "    label_list_opt.append([label_encoding[tag] for tag in sample])\n",
    "\n",
    "\n",
    "label_list_opt_val = []\n",
    "for sample in mapped_ner_tags_val:\n",
    "    label_list_opt_val.append([label_encoding[tag] for tag in sample])\n"
   ]
  },
  {
   "cell_type": "code",
   "execution_count": 19,
   "metadata": {
    "executionInfo": {
     "elapsed": 8,
     "status": "ok",
     "timestamp": 1714095658302,
     "user": {
      "displayName": "Irmak Tural",
      "userId": "05300032043509543722"
     },
     "user_tz": -60
    },
    "id": "GfAOTgcgvQTQ"
   },
   "outputs": [],
   "source": [
    "list_for_models=[]"
   ]
  },
  {
   "cell_type": "code",
   "execution_count": null,
   "metadata": {
    "colab": {
     "base_uri": "https://localhost:8080/"
    },
    "executionInfo": {
     "elapsed": 71674,
     "status": "ok",
     "timestamp": 1714095729970,
     "user": {
      "displayName": "Irmak Tural",
      "userId": "05300032043509543722"
     },
     "user_tz": -60
    },
    "id": "-3YARZH34bJG",
    "outputId": "abfa7a4c-8ce2-4fc2-f565-ba7128582a18"
   },
   "outputs": [],
   "source": [
    "import numpy as np\n",
    "import gensim\n",
    "\n",
    "vectorSize=200\n",
    "modelFastText= gensim.models.FastText(sentences_train+sentences_optional,window=3,min_count=1,workers=4,vector_size=vectorSize)\n",
    "modelFastText.train(sentences_train+sentences_optional, total_examples=len(sentences_train+sentences_optional), epochs=200)"
   ]
  },
  {
   "cell_type": "code",
   "execution_count": 21,
   "metadata": {
    "colab": {
     "base_uri": "https://localhost:8080/"
    },
    "executionInfo": {
     "elapsed": 1624,
     "status": "ok",
     "timestamp": 1714095731573,
     "user": {
      "displayName": "Irmak Tural",
      "userId": "05300032043509543722"
     },
     "user_tz": -60
    },
    "id": "xgwiajb2YwoV",
    "outputId": "388d07be-02c4-4ede-fc8a-323ffa5ea431"
   },
   "outputs": [
    {
     "name": "stdout",
     "output_type": "stream",
     "text": [
      "153\n",
      "153\n"
     ]
    }
   ],
   "source": [
    "padding_value=4\n",
    "\n",
    "from tensorflow.keras.preprocessing.sequence import pad_sequences\n",
    "import tensorflow as tf\n",
    "length_padding=100;\n",
    "vectorized_words_train = []\n",
    "vectorized_sentence_train = []\n",
    "vectorized_sentence_validation = []\n",
    "vectorized_words_validation= []\n",
    "\n",
    "for sentence in sentences_train+sentences_optional:\n",
    "     vectorized_words_train= []\n",
    "     for word in sentence:\n",
    "            vectorized_words_train.append(modelFastText.wv[word])\n",
    "     vectorized_sentence_train.append(vectorized_words_train)\n",
    "\n",
    "\n",
    "for sentence in sentences_val+ sentences_optional_val:\n",
    "     vectorized_words_val= []\n",
    "     for word in sentence:\n",
    "          if word not in modelFastText.wv.key_to_index:\n",
    "            similar_word=modelFastText.wv.most_similar(word)[0][0]\n",
    "\n",
    "            vectorized_words_val.append(modelFastText.wv[similar_word])\n",
    "          else:\n",
    "            vectorized_words_val.append(modelFastText.wv[word])\n",
    "     vectorized_sentence_validation.append(vectorized_words_val)\n",
    "\n",
    "padded_sentences_train= pad_sequences(vectorized_sentence_train,length_padding, padding='post', dtype='float32')\n",
    "padded_labels_train = pad_sequences(label_list_train+label_list_opt, length_padding,padding='post', dtype='float32', value=padding_value)\n",
    "padded_sentences_val= pad_sequences(vectorized_sentence_validation,length_padding, padding='post', dtype='float32')\n",
    "padded_labels_val = pad_sequences(label_list_val+label_list_opt_val, length_padding,padding='post', dtype='float32', value=padding_value)\n",
    "\n",
    "\n",
    "\n",
    "print(len(sentences_test))\n",
    "\n",
    "vectorized_sentence_test= []\n",
    "for sentence in sentences_test:\n",
    "     vectorized_words_test= []\n",
    "     for word in sentence:\n",
    "            if word not in modelFastText.wv.key_to_index:\n",
    "              similar_word=modelFastText.wv.most_similar(word)[0][0]\n",
    "\n",
    "              vectorized_words_val.append(modelFastText.wv[similar_word])\n",
    "            else:\n",
    "              vectorized_words_test.append(modelFastText.wv[word])\n",
    "     vectorized_sentence_test.append(np.array(vectorized_words_test))\n",
    "\n",
    "print(len(vectorized_sentence_test))\n",
    "padded_sentences_test= pad_sequences(vectorized_sentence_test,100, padding='post', dtype='float32')\n",
    "padded_labels_test = pad_sequences(label_list_test, 100,padding='post', dtype='float32', value=4)\n"
   ]
  },
  {
   "cell_type": "markdown",
   "metadata": {
    "id": "PmU_uW6FBQty"
   },
   "source": [
    "**TO USE LEARNING RATE WITH 0.005.**\n",
    "\n",
    "early_stopping = EarlyStopping(monitor='val_loss', patience=20, verbose=1, restore_best_weights=True) is added it can be removed and remove from fit method\n"
   ]
  },
  {
   "cell_type": "code",
   "execution_count": null,
   "metadata": {
    "colab": {
     "base_uri": "https://localhost:8080/"
    },
    "executionInfo": {
     "elapsed": 93930,
     "status": "ok",
     "timestamp": 1714095825499,
     "user": {
      "displayName": "Irmak Tural",
      "userId": "05300032043509543722"
     },
     "user_tz": -60
    },
    "id": "WQUGLeLn5Pf0",
    "outputId": "2ea0fa70-4357-4470-ee87-140e75f07579"
   },
   "outputs": [],
   "source": [
    "from tensorflow.keras.callbacks import EarlyStopping\n",
    "\n",
    "from tensorflow.keras.models import Sequential\n",
    "from tensorflow.keras.layers import Dense, LSTM, Embedding, Flatten, SimpleRNN, Masking,Conv1D, MaxPooling1D, RNN, Activation\n",
    "from tensorflow.keras.optimizers import Adam, SGD, AdamW\n",
    "from tensorflow.keras import layers\n",
    "from tensorflow.keras.losses import SparseCategoricalCrossentropy,CategoricalFocalCrossentropy, CategoricalCrossentropy\n",
    "\n",
    "\n",
    "model= Sequential()\n",
    "model.add(Masking(mask_value = 0.,input_shape=(100, vectorSize)))\n",
    "\n",
    "model.add(LSTM(64, return_sequences=True))\n",
    "model.add(LSTM(32, return_sequences=True))\n",
    "model.add(Dense(4,activation='softmax'))\n",
    "loss = SparseCategoricalCrossentropy(\n",
    "    from_logits=False,\n",
    "    ignore_class=4,\n",
    "    reduction=\"sum_over_batch_size\",\n",
    "    name=\"sparse_categorical_crossentropy\",\n",
    ")\n",
    "\n",
    "optimizer = AdamW(learning_rate=0.005)\n",
    "\n",
    "model.compile(loss=loss, optimizer=optimizer, metrics=['accuracy'])\n",
    "early_stopping = EarlyStopping(monitor='val_loss', patience=20, verbose=1, restore_best_weights=True)\n",
    "\n",
    "model.fit(padded_sentences_train, padded_labels_train, batch_size=16, epochs=5, validation_data=(padded_sentences_val,padded_labels_val),callbacks=[early_stopping])"
   ]
  },
  {
   "cell_type": "code",
   "execution_count": 23,
   "metadata": {
    "colab": {
     "base_uri": "https://localhost:8080/",
     "height": 663
    },
    "executionInfo": {
     "elapsed": 4269,
     "status": "ok",
     "timestamp": 1714095829762,
     "user": {
      "displayName": "Irmak Tural",
      "userId": "05300032043509543722"
     },
     "user_tz": -60
    },
    "id": "aZCNnZBhfRzl",
    "outputId": "4903a77c-1a9a-4e7f-ca9d-361d94e482d9"
   },
   "outputs": [
    {
     "name": "stdout",
     "output_type": "stream",
     "text": [
      "5/5 [==============================] - 3s 41ms/step\n",
      "0.8665769589069454\n",
      "0.843\n",
      "              precision    recall  f1-score   support\n",
      "\n",
      "          AC       0.24      0.09      0.13       270\n",
      "          LF       0.04      0.02      0.03       152\n",
      "           O       0.87      0.97      0.92      4292\n",
      "\n",
      "   micro avg       0.85      0.89      0.87      4714\n",
      "   macro avg       0.38      0.36      0.36      4714\n",
      "weighted avg       0.81      0.89      0.84      4714\n",
      "\n"
     ]
    },
    {
     "data": {
      "image/png": "[encoded data removed]",
      "text/plain": [
       "<Figure size 600x400 with 2 Axes>"
      ]
     },
     "metadata": {},
     "output_type": "display_data"
    }
   ],
   "source": [
    "from seqeval.metrics import accuracy_score\n",
    "from seqeval.metrics import classification_report\n",
    "from seqeval.metrics import f1_score\n",
    "import seaborn as sns\n",
    "\n",
    "predicted_probabilities = model.predict(padded_sentences_test)\n",
    "len(padded_sentences_test)\n",
    "len(padded_labels_test)\n",
    "\n",
    "predicted_classes = np.argmax(predicted_probabilities, axis=2)\n",
    "#predicted_classes[0]\n",
    "padded_labels_test[0]\n",
    "predicted_classes[0]\n",
    "\n",
    "filtered_padded_labels_test = padded_labels_test.tolist()\n",
    "filtered_predicted_classes=predicted_classes.tolist()\n",
    "\n",
    "for pred, labels in zip(filtered_predicted_classes, filtered_padded_labels_test):\n",
    "    #print(\"Predicted Classes before removal:\", pred)\n",
    "    #print(\"Padded Labels Test before removal:\", labels)\n",
    "\n",
    "    indices_to_remove = []  # Store indices to be removed\n",
    "\n",
    "    # Iterate over the inner list\n",
    "    for i, item in enumerate(labels[:]):  # Iterating over a copy of the list to avoid issues with removal\n",
    "        if item == 4:\n",
    "            labels.remove(item)\n",
    "            indices_to_remove.append(i)  # Store index to remove corresponding element in predicted_classes\n",
    "\n",
    "    # Remove corresponding elements in predicted_classes\n",
    "    for index in reversed(indices_to_remove):\n",
    "        pred.pop(index)\n",
    "\n",
    "\n",
    "label_map = {\n",
    "    0: 'B-O',\n",
    "    1: 'B-AC',\n",
    "    2: 'B-LF',\n",
    "    3: 'I-LF',\n",
    "    4:'pad'\n",
    "\n",
    "\n",
    "}\n",
    "\n",
    "# Map numerical labels to string labels\n",
    "predicted_classes_mapped = []\n",
    "for instance in filtered_predicted_classes:\n",
    "    mapped_instance = [label_map[label] for label in instance]\n",
    "    predicted_classes_mapped.append(mapped_instance)\n",
    "\n",
    "\n",
    "# Output the mapped predicted classes\n",
    "predicted_classes_mapped[5]\n",
    "\n",
    "\n",
    "padded_labels_test_mapped= []\n",
    "for instance in filtered_padded_labels_test:\n",
    "    mapped_instance = [label_map[label] for label in instance]\n",
    "    padded_labels_test_mapped.append(mapped_instance)\n",
    "\n",
    "\n",
    "\n",
    "# Output the mapped predicted classes\n",
    "\n",
    "\n",
    "y_true = padded_labels_test_mapped\n",
    "y_pred = predicted_classes_mapped\n",
    "\n",
    "print(f1_score(y_true, y_pred, zero_division=0))\n",
    "\n",
    "\n",
    "print(accuracy_score(y_true, y_pred))\n",
    "print(classification_report(y_true, y_pred))\n",
    "\n",
    "true_labels_flat = [label for sublist in y_true for label in sublist]\n",
    "predicted_labels_flat = [label for sublist in y_pred for label in sublist]\n",
    "\n",
    "# Get unique labels\n",
    "unique_labels = ['B-O','B-AC', 'B-LF', 'I-LF', 'pad']\n",
    "\n",
    "\n",
    "# Initialize confusion matrix\n",
    "confusion_matrix = np.zeros((len(unique_labels), len(unique_labels)), dtype=int)\n",
    "\n",
    "# Populate confusion matrix\n",
    "for true_label, predicted_label in zip(true_labels_flat, predicted_labels_flat):\n",
    "    true_index = unique_labels.index(true_label)\n",
    "    predicted_index = unique_labels.index(predicted_label)\n",
    "    confusion_matrix[true_index][predicted_index] += 1\n",
    "\n",
    "# Print confusion matrix\n",
    "\n",
    "import seaborn as sns\n",
    "plt.figure(figsize=(6, 4))\n",
    "sns.set(font_scale=1.2)  # Adjust font size for better readability\n",
    "sns.heatmap(confusion_matrix, annot=True, fmt='d', cmap='Blues', xticklabels=unique_labels, yticklabels=unique_labels)\n",
    "plt.xlabel('Predicted Labels')\n",
    "plt.ylabel('True Labels')\n",
    "plt.title('Confusion Matrix')\n",
    "plt.show()"
   ]
  },
  {
   "cell_type": "markdown",
   "metadata": {
    "id": "tvPFehVODaQl"
   },
   "source": [
    "**IT IS FOR DIFFERENT BATCH SIZE=64**"
   ]
  },
  {
   "cell_type": "code",
   "execution_count": null,
   "metadata": {
    "colab": {
     "base_uri": "https://localhost:8080/"
    },
    "executionInfo": {
     "elapsed": 34992,
     "status": "ok",
     "timestamp": 1714095864740,
     "user": {
      "displayName": "Irmak Tural",
      "userId": "05300032043509543722"
     },
     "user_tz": -60
    },
    "id": "jBh7AX5_RTbs",
    "outputId": "190ea4c2-409d-4c31-d0c0-15706a114743"
   },
   "outputs": [],
   "source": [
    "from tensorflow.keras.callbacks import EarlyStopping\n",
    "\n",
    "from tensorflow.keras.models import Sequential\n",
    "from tensorflow.keras.layers import Dense, LSTM, Embedding, Flatten, SimpleRNN, Masking,Conv1D, MaxPooling1D, RNN, Activation\n",
    "from tensorflow.keras.optimizers import Adam, SGD, AdamW\n",
    "from tensorflow.keras import layers\n",
    "from tensorflow.keras.losses import SparseCategoricalCrossentropy,CategoricalFocalCrossentropy, CategoricalCrossentropy\n",
    "\n",
    "\n",
    "model= Sequential()\n",
    "model.add(Masking(mask_value = 0.,input_shape=(100, vectorSize)))\n",
    "\n",
    "model.add(LSTM(64, return_sequences=True))\n",
    "model.add(LSTM(32, return_sequences=True))\n",
    "model.add(Dense(4,activation='softmax'))\n",
    "loss = SparseCategoricalCrossentropy(\n",
    "    from_logits=False,\n",
    "    ignore_class=4,\n",
    "    reduction=\"sum_over_batch_size\",\n",
    "    name=\"sparse_categorical_crossentropy\",\n",
    ")\n",
    "\n",
    "optimizer = AdamW(learning_rate=0.005)\n",
    "\n",
    "model.compile(loss=loss, optimizer=optimizer, metrics=['accuracy'])\n",
    "early_stopping = EarlyStopping(monitor='val_loss', patience=20, verbose=1, restore_best_weights=True)\n",
    "\n",
    "model.fit(padded_sentences_train, padded_labels_train, batch_size=64, epochs=5, validation_data=(padded_sentences_val,padded_labels_val),callbacks=[early_stopping])"
   ]
  },
  {
   "cell_type": "code",
   "execution_count": 25,
   "metadata": {
    "colab": {
     "base_uri": "https://localhost:8080/",
     "height": 663
    },
    "executionInfo": {
     "elapsed": 3922,
     "status": "ok",
     "timestamp": 1714095868655,
     "user": {
      "displayName": "Irmak Tural",
      "userId": "05300032043509543722"
     },
     "user_tz": -60
    },
    "id": "hqi3xXnmBa0H",
    "outputId": "b9a6d67e-9844-4e42-f117-3e3f6f02f922"
   },
   "outputs": [
    {
     "name": "stdout",
     "output_type": "stream",
     "text": [
      "5/5 [==============================] - 3s 40ms/step\n",
      "0.846955796497081\n",
      "0.8236\n",
      "              precision    recall  f1-score   support\n",
      "\n",
      "          AC       0.17      0.06      0.09       270\n",
      "          LF       0.02      0.03      0.03       152\n",
      "           O       0.88      0.94      0.91      4292\n",
      "\n",
      "   micro avg       0.83      0.86      0.85      4714\n",
      "   macro avg       0.36      0.34      0.34      4714\n",
      "weighted avg       0.81      0.86      0.83      4714\n",
      "\n"
     ]
    },
    {
     "data": {
      "image/png": "[encoded data removed]",
      "text/plain": [
       "<Figure size 600x400 with 2 Axes>"
      ]
     },
     "metadata": {},
     "output_type": "display_data"
    }
   ],
   "source": [
    "from seqeval.metrics import accuracy_score\n",
    "from seqeval.metrics import classification_report\n",
    "from seqeval.metrics import f1_score\n",
    "from seqeval.metrics import accuracy_score\n",
    "from seqeval.metrics import classification_report\n",
    "from seqeval.metrics import f1_score\n",
    "\n",
    "\n",
    "\n",
    "import seaborn as sns\n",
    "\n",
    "predicted_probabilities = model.predict(padded_sentences_test)\n",
    "len(padded_sentences_test)\n",
    "len(padded_labels_test)\n",
    "\n",
    "predicted_classes = np.argmax(predicted_probabilities, axis=2)\n",
    "#predicted_classes[0]\n",
    "padded_labels_test[0]\n",
    "predicted_classes[0]\n",
    "\n",
    "filtered_padded_labels_test = padded_labels_test.tolist()\n",
    "filtered_predicted_classes=predicted_classes.tolist()\n",
    "\n",
    "for pred, labels in zip(filtered_predicted_classes, filtered_padded_labels_test):\n",
    "    #print(\"Predicted Classes before removal:\", pred)\n",
    "    #print(\"Padded Labels Test before removal:\", labels)\n",
    "\n",
    "    indices_to_remove = []  # Store indices to be removed\n",
    "\n",
    "    # Iterate over the inner list\n",
    "    for i, item in enumerate(labels[:]):  # Iterating over a copy of the list to avoid issues with removal\n",
    "        if item == 4:\n",
    "            labels.remove(item)\n",
    "            indices_to_remove.append(i)  # Store index to remove corresponding element in predicted_classes\n",
    "\n",
    "    # Remove corresponding elements in predicted_classes\n",
    "    for index in reversed(indices_to_remove):\n",
    "        pred.pop(index)\n",
    "\n",
    "\n",
    "label_map = {\n",
    "    0: 'B-O',\n",
    "    1: 'B-AC',\n",
    "    2: 'B-LF',\n",
    "    3: 'I-LF',\n",
    "    4:'pad'\n",
    "\n",
    "\n",
    "}\n",
    "\n",
    "# Map numerical labels to string labels\n",
    "predicted_classes_mapped = []\n",
    "for instance in filtered_predicted_classes:\n",
    "    mapped_instance = [label_map[label] for label in instance]\n",
    "    predicted_classes_mapped.append(mapped_instance)\n",
    "\n",
    "\n",
    "# Output the mapped predicted classes\n",
    "predicted_classes_mapped[5]\n",
    "\n",
    "\n",
    "padded_labels_test_mapped= []\n",
    "for instance in filtered_padded_labels_test:\n",
    "    mapped_instance = [label_map[label] for label in instance]\n",
    "    padded_labels_test_mapped.append(mapped_instance)\n",
    "\n",
    "\n",
    "\n",
    "# Output the mapped predicted classes\n",
    "\n",
    "\n",
    "y_true = padded_labels_test_mapped\n",
    "y_pred = predicted_classes_mapped\n",
    "\n",
    "print(f1_score(y_true, y_pred, zero_division=0))\n",
    "\n",
    "\n",
    "print(accuracy_score(y_true, y_pred))\n",
    "print(classification_report(y_true, y_pred))\n",
    "\n",
    "true_labels_flat = [label for sublist in y_true for label in sublist]\n",
    "predicted_labels_flat = [label for sublist in y_pred for label in sublist]\n",
    "\n",
    "# Get unique labels\n",
    "unique_labels = ['B-O','B-AC', 'B-LF', 'I-LF', 'pad']\n",
    "\n",
    "\n",
    "# Initialize confusion matrix\n",
    "confusion_matrix = np.zeros((len(unique_labels), len(unique_labels)), dtype=int)\n",
    "\n",
    "# Populate confusion matrix\n",
    "for true_label, predicted_label in zip(true_labels_flat, predicted_labels_flat):\n",
    "    true_index = unique_labels.index(true_label)\n",
    "    predicted_index = unique_labels.index(predicted_label)\n",
    "    confusion_matrix[true_index][predicted_index] += 1\n",
    "\n",
    "# Print confusion matrix\n",
    "\n",
    "import seaborn as sns\n",
    "plt.figure(figsize=(6, 4))\n",
    "sns.set(font_scale=1.2)  # Adjust font size for better readability\n",
    "sns.heatmap(confusion_matrix, annot=True, fmt='d', cmap='Blues', xticklabels=unique_labels, yticklabels=unique_labels)\n",
    "plt.xlabel('Predicted Labels')\n",
    "plt.ylabel('True Labels')\n",
    "plt.title('Confusion Matrix')\n",
    "plt.show()"
   ]
  },
  {
   "cell_type": "code",
   "execution_count": 26,
   "metadata": {
    "colab": {
     "base_uri": "https://localhost:8080/"
    },
    "executionInfo": {
     "elapsed": 93210,
     "status": "ok",
     "timestamp": 1714095961861,
     "user": {
      "displayName": "Irmak Tural",
      "userId": "05300032043509543722"
     },
     "user_tz": -60
    },
    "id": "kEBMgr5JDRXZ",
    "outputId": "e9725ce1-0fda-48f0-f007-e98966fbddec"
   },
   "outputs": [
    {
     "name": "stdout",
     "output_type": "stream",
     "text": [
      "Epoch 1/5\n",
      "68/68 [==============================] - 22s 187ms/step - loss: 0.6658 - accuracy: 0.8079 - val_loss: 0.4572 - val_accuracy: 0.8517\n",
      "Epoch 2/5\n",
      "68/68 [==============================] - 9s 127ms/step - loss: 0.4489 - accuracy: 0.8409 - val_loss: 0.3532 - val_accuracy: 0.8788\n",
      "Epoch 3/5\n",
      "68/68 [==============================] - 8s 114ms/step - loss: 0.3669 - accuracy: 0.8624 - val_loss: 0.3219 - val_accuracy: 0.8852\n",
      "Epoch 4/5\n",
      "68/68 [==============================] - 9s 129ms/step - loss: 0.3328 - accuracy: 0.8709 - val_loss: 0.2954 - val_accuracy: 0.8899\n",
      "Epoch 5/5\n",
      "68/68 [==============================] - 9s 128ms/step - loss: 0.3087 - accuracy: 0.8794 - val_loss: 0.2935 - val_accuracy: 0.8913\n"
     ]
    },
    {
     "data": {
      "text/plain": [
       "<keras.src.callbacks.History at 0x7cefa10bec20>"
      ]
     },
     "execution_count": 26,
     "metadata": {},
     "output_type": "execute_result"
    }
   ],
   "source": [
    "from tensorflow.keras.callbacks import EarlyStopping\n",
    "\n",
    "from tensorflow.keras.models import Sequential\n",
    "from tensorflow.keras.layers import Dense, LSTM, Embedding, Flatten, SimpleRNN, Masking,Conv1D, MaxPooling1D, RNN, Activation\n",
    "from tensorflow.keras.optimizers import Adam, SGD, AdamW\n",
    "from tensorflow.keras import layers\n",
    "from tensorflow.keras.losses import SparseCategoricalCrossentropy,CategoricalFocalCrossentropy, CategoricalCrossentropy\n",
    "\n",
    "\n",
    "model= Sequential()\n",
    "model.add(Masking(mask_value = 0.,input_shape=(100, vectorSize)))\n",
    "\n",
    "model.add(LSTM(64, return_sequences=True))\n",
    "model.add(LSTM(32, return_sequences=True))\n",
    "model.add(Dense(4,activation='softmax'))\n",
    "loss = SparseCategoricalCrossentropy(\n",
    "    from_logits=False,\n",
    "    ignore_class=4,\n",
    "    reduction=\"sum_over_batch_size\",\n",
    "    name=\"sparse_categorical_crossentropy\",\n",
    ")\n",
    "\n",
    "optimizer = AdamW(learning_rate=0.001)\n",
    "\n",
    "model.compile(loss=loss, optimizer=optimizer, metrics=['accuracy'])\n",
    "early_stopping = EarlyStopping(monitor='val_loss', patience=20, verbose=1, restore_best_weights=True)\n",
    "\n",
    "model.fit(padded_sentences_train, padded_labels_train, batch_size=16, epochs=5, validation_data=(padded_sentences_val,padded_labels_val),callbacks=[early_stopping])"
   ]
  },
  {
   "cell_type": "code",
   "execution_count": 27,
   "metadata": {
    "colab": {
     "base_uri": "https://localhost:8080/",
     "height": 663
    },
    "executionInfo": {
     "elapsed": 4005,
     "status": "ok",
     "timestamp": 1714095965855,
     "user": {
      "displayName": "Irmak Tural",
      "userId": "05300032043509543722"
     },
     "user_tz": -60
    },
    "id": "Bqfnc8MrDRUu",
    "outputId": "b11b2d32-5cc2-4da1-b48e-7d59166a40bc"
   },
   "outputs": [
    {
     "name": "stdout",
     "output_type": "stream",
     "text": [
      "5/5 [==============================] - 3s 40ms/step\n",
      "0.8552987716010826\n",
      "0.8318\n",
      "              precision    recall  f1-score   support\n",
      "\n",
      "          AC       0.19      0.07      0.10       270\n",
      "          LF       0.02      0.02      0.02       152\n",
      "           O       0.88      0.95      0.91      4292\n",
      "\n",
      "   micro avg       0.84      0.87      0.86      4714\n",
      "   macro avg       0.36      0.35      0.34      4714\n",
      "weighted avg       0.81      0.87      0.84      4714\n",
      "\n"
     ]
    },
    {
     "data": {
      "image/png": "[encoded data removed]",
      "text/plain": [
       "<Figure size 600x400 with 2 Axes>"
      ]
     },
     "metadata": {},
     "output_type": "display_data"
    }
   ],
   "source": [
    "from seqeval.metrics import accuracy_score\n",
    "from seqeval.metrics import classification_report\n",
    "from seqeval.metrics import f1_score\n",
    "from seqeval.metrics import accuracy_score\n",
    "from seqeval.metrics import classification_report\n",
    "from seqeval.metrics import f1_score\n",
    "\n",
    "\n",
    "\n",
    "import seaborn as sns\n",
    "\n",
    "predicted_probabilities = model.predict(padded_sentences_test)\n",
    "len(padded_sentences_test)\n",
    "len(padded_labels_test)\n",
    "\n",
    "predicted_classes = np.argmax(predicted_probabilities, axis=2)\n",
    "#predicted_classes[0]\n",
    "padded_labels_test[0]\n",
    "predicted_classes[0]\n",
    "\n",
    "filtered_padded_labels_test = padded_labels_test.tolist()\n",
    "filtered_predicted_classes=predicted_classes.tolist()\n",
    "\n",
    "for pred, labels in zip(filtered_predicted_classes, filtered_padded_labels_test):\n",
    "    #print(\"Predicted Classes before removal:\", pred)\n",
    "    #print(\"Padded Labels Test before removal:\", labels)\n",
    "\n",
    "    indices_to_remove = []  # Store indices to be removed\n",
    "\n",
    "    # Iterate over the inner list\n",
    "    for i, item in enumerate(labels[:]):  # Iterating over a copy of the list to avoid issues with removal\n",
    "        if item == 4:\n",
    "            labels.remove(item)\n",
    "            indices_to_remove.append(i)  # Store index to remove corresponding element in predicted_classes\n",
    "\n",
    "    # Remove corresponding elements in predicted_classes\n",
    "    for index in reversed(indices_to_remove):\n",
    "        pred.pop(index)\n",
    "\n",
    "\n",
    "label_map = {\n",
    "    0: 'B-O',\n",
    "    1: 'B-AC',\n",
    "    2: 'B-LF',\n",
    "    3: 'I-LF',\n",
    "    4:'pad'\n",
    "\n",
    "\n",
    "}\n",
    "\n",
    "# Map numerical labels to string labels\n",
    "predicted_classes_mapped = []\n",
    "for instance in filtered_predicted_classes:\n",
    "    mapped_instance = [label_map[label] for label in instance]\n",
    "    predicted_classes_mapped.append(mapped_instance)\n",
    "\n",
    "\n",
    "# Output the mapped predicted classes\n",
    "predicted_classes_mapped[5]\n",
    "\n",
    "\n",
    "padded_labels_test_mapped= []\n",
    "for instance in filtered_padded_labels_test:\n",
    "    mapped_instance = [label_map[label] for label in instance]\n",
    "    padded_labels_test_mapped.append(mapped_instance)\n",
    "\n",
    "\n",
    "\n",
    "# Output the mapped predicted classes\n",
    "\n",
    "\n",
    "y_true = padded_labels_test_mapped\n",
    "y_pred = predicted_classes_mapped\n",
    "\n",
    "print(f1_score(y_true, y_pred, zero_division=0))\n",
    "\n",
    "\n",
    "print(accuracy_score(y_true, y_pred))\n",
    "print(classification_report(y_true, y_pred))\n",
    "\n",
    "true_labels_flat = [label for sublist in y_true for label in sublist]\n",
    "predicted_labels_flat = [label for sublist in y_pred for label in sublist]\n",
    "\n",
    "# Get unique labels\n",
    "unique_labels = ['B-O','B-AC', 'B-LF', 'I-LF', 'pad']\n",
    "\n",
    "\n",
    "# Initialize confusion matrix\n",
    "confusion_matrix = np.zeros((len(unique_labels), len(unique_labels)), dtype=int)\n",
    "\n",
    "# Populate confusion matrix\n",
    "for true_label, predicted_label in zip(true_labels_flat, predicted_labels_flat):\n",
    "    true_index = unique_labels.index(true_label)\n",
    "    predicted_index = unique_labels.index(predicted_label)\n",
    "    confusion_matrix[true_index][predicted_index] += 1\n",
    "\n",
    "# Print confusion matrix\n",
    "\n",
    "import seaborn as sns\n",
    "plt.figure(figsize=(6, 4))\n",
    "sns.set(font_scale=1.2)  # Adjust font size for better readability\n",
    "sns.heatmap(confusion_matrix, annot=True, fmt='d', cmap='Blues', xticklabels=unique_labels, yticklabels=unique_labels)\n",
    "plt.xlabel('Predicted Labels')\n",
    "plt.ylabel('True Labels')\n",
    "plt.title('Confusion Matrix')\n",
    "plt.show()"
   ]
  },
  {
   "cell_type": "markdown",
   "metadata": {
    "id": "Yt8JXOoTDuK2"
   },
   "source": [
    "**IT IS FOR DIFFERENT OPTIMIZER=ADAM**"
   ]
  },
  {
   "cell_type": "markdown",
   "metadata": {
    "id": "GnXXNkJmGsc8"
   },
   "source": [
    "# **Each classification report belongs to previous cell, when you RUNN ALL**"
   ]
  },
  {
   "cell_type": "code",
   "execution_count": 29,
   "metadata": {
    "executionInfo": {
     "elapsed": 10,
     "status": "ok",
     "timestamp": 1714096116380,
     "user": {
      "displayName": "Irmak Tural",
      "userId": "05300032043509543722"
     },
     "user_tz": -60
    },
    "id": "omMuVfFyDREF"
   },
   "outputs": [],
   "source": []
  },
  {
   "cell_type": "code",
   "execution_count": 29,
   "metadata": {
    "executionInfo": {
     "elapsed": 10,
     "status": "ok",
     "timestamp": 1714096116381,
     "user": {
      "displayName": "Irmak Tural",
      "userId": "05300032043509543722"
     },
     "user_tz": -60
    },
    "id": "kBAhAYqgDQ3F"
   },
   "outputs": [],
   "source": []
  }
 ],
 "metadata": {
  "accelerator": "GPU",
  "colab": {
   "authorship_tag": "ABX9TyMj0c4G0mrRs77w1wuUVgAW",
   "gpuType": "T4",
   "machine_shape": "hm",
   "provenance": [
    {
     "file_id": "1W997fpIM6A-fGacFDIs-i73WrZX3TFf_",
     "timestamp": 1713969048293
    },
    {
     "file_id": "1kofCAaADpJhaGoB3M6Ql9g__1QhsjbJC",
     "timestamp": 1713959116298
    },
    {
     "file_id": "1JCkRseKF-CXSDzu2v12-cdXqJwZlnLKK",
     "timestamp": 1713912102199
    },
    {
     "file_id": "1WQsHoPXcpoxJGJ9jhrifkH8nstjKN6FJ",
     "timestamp": 1713890752264
    },
    {
     "file_id": "1UPWh3F51XCmCPCFswOtighFglZSTXLWc",
     "timestamp": 1713729633934
    },
    {
     "file_id": "1g4H6Q-Xg_vT8gCdU33nE9TZopLAjN9Cr",
     "timestamp": 1713550666684
    },
    {
     "file_id": "1A0lyhmkp_vf6lrXV76tBnmBvNTZa_XAI",
     "timestamp": 1713391014298
    }
   ]
  },
  "kernelspec": {
   "display_name": "Python 3",
   "name": "python3"
  },
  "language_info": {
   "name": "python"
  }
 },
 "nbformat": 4,
 "nbformat_minor": 0
}
